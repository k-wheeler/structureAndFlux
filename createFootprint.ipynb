{
 "cells": [
  {
   "cell_type": "code",
   "execution_count": 147,
   "id": "91e1e9d3-386a-44a5-a64f-83561d42e4ff",
   "metadata": {},
   "outputs": [],
   "source": [
    "import geopandas as gpd\n",
    "import pandas as pd\n",
    "import rioxarray as rxr\n",
    "import numpy as np\n",
    "from shapely.geometry import Polygon"
   ]
  },
  {
   "cell_type": "code",
   "execution_count": 151,
   "id": "326b9174-fb67-4f9c-8103-e188431870c3",
   "metadata": {},
   "outputs": [],
   "source": [
    "footprint_df = gpd.read_file('/Users/jkim/code/spec_school/data/footprintData/90percent_flux.shp')"
   ]
  },
  {
   "cell_type": "code",
   "execution_count": 152,
   "id": "c2b51d87-6143-4930-af03-63f336a26494",
   "metadata": {},
   "outputs": [
    {
     "data": {
      "text/html": [
       "<div>\n",
       "<style scoped>\n",
       "    .dataframe tbody tr th:only-of-type {\n",
       "        vertical-align: middle;\n",
       "    }\n",
       "\n",
       "    .dataframe tbody tr th {\n",
       "        vertical-align: top;\n",
       "    }\n",
       "\n",
       "    .dataframe thead th {\n",
       "        text-align: right;\n",
       "    }\n",
       "</style>\n",
       "<table border=\"1\" class=\"dataframe\">\n",
       "  <thead>\n",
       "    <tr style=\"text-align: right;\">\n",
       "      <th></th>\n",
       "      <th>Domain</th>\n",
       "      <th>SiteID</th>\n",
       "      <th>Type</th>\n",
       "      <th>Distance</th>\n",
       "      <th>Bearing</th>\n",
       "      <th>geometry</th>\n",
       "    </tr>\n",
       "  </thead>\n",
       "  <tbody>\n",
       "    <tr>\n",
       "      <th>0</th>\n",
       "      <td>16</td>\n",
       "      <td>ABBY</td>\n",
       "      <td>major</td>\n",
       "      <td>210</td>\n",
       "      <td>130</td>\n",
       "      <td>LINESTRING (-122.33035 45.76244, -122.32828 45...</td>\n",
       "    </tr>\n",
       "    <tr>\n",
       "      <th>1</th>\n",
       "      <td>16</td>\n",
       "      <td>ABBY</td>\n",
       "      <td>major</td>\n",
       "      <td>210</td>\n",
       "      <td>190</td>\n",
       "      <td>LINESTRING (-122.33035 45.76244, -122.33084 45...</td>\n",
       "    </tr>\n",
       "    <tr>\n",
       "      <th>2</th>\n",
       "      <td>1</td>\n",
       "      <td>BART</td>\n",
       "      <td>major</td>\n",
       "      <td>530</td>\n",
       "      <td>280</td>\n",
       "      <td>LINESTRING (-71.28731 44.06388, -71.29385 44.0...</td>\n",
       "    </tr>\n",
       "    <tr>\n",
       "      <th>3</th>\n",
       "      <td>1</td>\n",
       "      <td>BART</td>\n",
       "      <td>major</td>\n",
       "      <td>530</td>\n",
       "      <td>335</td>\n",
       "      <td>LINESTRING (-71.28731 44.06388, -71.29027 44.0...</td>\n",
       "    </tr>\n",
       "    <tr>\n",
       "      <th>4</th>\n",
       "      <td>1</td>\n",
       "      <td>BART</td>\n",
       "      <td>secondary</td>\n",
       "      <td>530</td>\n",
       "      <td>140</td>\n",
       "      <td>LINESTRING (-71.28731 44.06388, -71.28292 44.0...</td>\n",
       "    </tr>\n",
       "    <tr>\n",
       "      <th>...</th>\n",
       "      <td>...</td>\n",
       "      <td>...</td>\n",
       "      <td>...</td>\n",
       "      <td>...</td>\n",
       "      <td>...</td>\n",
       "      <td>...</td>\n",
       "    </tr>\n",
       "    <tr>\n",
       "      <th>148</th>\n",
       "      <td>12</td>\n",
       "      <td>YELL</td>\n",
       "      <td>secondary</td>\n",
       "      <td>330</td>\n",
       "      <td>355</td>\n",
       "      <td>LINESTRING (-110.53914 44.95348, -110.53948 44...</td>\n",
       "    </tr>\n",
       "    <tr>\n",
       "      <th>149</th>\n",
       "      <td>15</td>\n",
       "      <td>ONAQ</td>\n",
       "      <td>major</td>\n",
       "      <td>590</td>\n",
       "      <td>260</td>\n",
       "      <td>LINESTRING (-112.45244 40.17759, -112.45926 40...</td>\n",
       "    </tr>\n",
       "    <tr>\n",
       "      <th>150</th>\n",
       "      <td>15</td>\n",
       "      <td>ONAQ</td>\n",
       "      <td>major</td>\n",
       "      <td>590</td>\n",
       "      <td>170</td>\n",
       "      <td>LINESTRING (-112.45244 40.17759, -112.45124 40...</td>\n",
       "    </tr>\n",
       "    <tr>\n",
       "      <th>151</th>\n",
       "      <td>5</td>\n",
       "      <td>UNDE</td>\n",
       "      <td>major</td>\n",
       "      <td>580</td>\n",
       "      <td>110</td>\n",
       "      <td>LINESTRING (-89.53725 46.23388, -89.53011 46.2...</td>\n",
       "    </tr>\n",
       "    <tr>\n",
       "      <th>152</th>\n",
       "      <td>0</td>\n",
       "      <td>UNDE</td>\n",
       "      <td>major</td>\n",
       "      <td>580</td>\n",
       "      <td>280</td>\n",
       "      <td>LINESTRING (-89.53725 46.23388, -89.54469 46.2...</td>\n",
       "    </tr>\n",
       "  </tbody>\n",
       "</table>\n",
       "<p>153 rows × 6 columns</p>\n",
       "</div>"
      ],
      "text/plain": [
       "     Domain SiteID       Type  Distance  Bearing  \\\n",
       "0        16   ABBY      major       210      130   \n",
       "1        16   ABBY      major       210      190   \n",
       "2         1   BART      major       530      280   \n",
       "3         1   BART      major       530      335   \n",
       "4         1   BART  secondary       530      140   \n",
       "..      ...    ...        ...       ...      ...   \n",
       "148      12   YELL  secondary       330      355   \n",
       "149      15   ONAQ      major       590      260   \n",
       "150      15   ONAQ      major       590      170   \n",
       "151       5   UNDE      major       580      110   \n",
       "152       0   UNDE      major       580      280   \n",
       "\n",
       "                                              geometry  \n",
       "0    LINESTRING (-122.33035 45.76244, -122.32828 45...  \n",
       "1    LINESTRING (-122.33035 45.76244, -122.33084 45...  \n",
       "2    LINESTRING (-71.28731 44.06388, -71.29385 44.0...  \n",
       "3    LINESTRING (-71.28731 44.06388, -71.29027 44.0...  \n",
       "4    LINESTRING (-71.28731 44.06388, -71.28292 44.0...  \n",
       "..                                                 ...  \n",
       "148  LINESTRING (-110.53914 44.95348, -110.53948 44...  \n",
       "149  LINESTRING (-112.45244 40.17759, -112.45926 40...  \n",
       "150  LINESTRING (-112.45244 40.17759, -112.45124 40...  \n",
       "151  LINESTRING (-89.53725 46.23388, -89.53011 46.2...  \n",
       "152  LINESTRING (-89.53725 46.23388, -89.54469 46.2...  \n",
       "\n",
       "[153 rows x 6 columns]"
      ]
     },
     "execution_count": 152,
     "metadata": {},
     "output_type": "execute_result"
    }
   ],
   "source": [
    "footprint_df"
   ]
  },
  {
   "cell_type": "code",
   "execution_count": 153,
   "id": "35da3b45-8f84-4952-a39d-95256bf59bfc",
   "metadata": {},
   "outputs": [],
   "source": [
    "sites = ['MLBS', 'GRSM', 'ORNL']\n",
    "polygons = []\n",
    "sites2 = ['GRSM']"
   ]
  },
  {
   "cell_type": "code",
   "execution_count": 154,
   "id": "396a0444-fd8e-4e37-91de-c5f7144c588f",
   "metadata": {},
   "outputs": [],
   "source": [
    "for site in sites:\n",
    "    footprint_ = footprint_df[(footprint_df.SiteID == site) & (footprint_df.Type == \"major\")]\n",
    "    coords = footprint_.geometry.get_coordinates().sort_values('y')\n",
    "    coords = coords.drop_duplicates()\n",
    "    xc = coords.x.values\n",
    "    yc = coords.y.values\n",
    "\n",
    "    xc = np.append(xc, xc[0])\n",
    "    yc = np.append(yc, yc[0])\n",
    "    polygons.append(Polygon(list(zip(xc, yc))))"
   ]
  },
  {
   "cell_type": "code",
   "execution_count": 156,
   "id": "f4df4b98-9fac-4482-ad77-1c788b310cf1",
   "metadata": {},
   "outputs": [],
   "source": [
    "flux_footprints = gpd.GeoDataFrame(data=sites, geometry=polygons, columns=['sitename'], crs=footprint_df.crs)"
   ]
  },
  {
   "cell_type": "code",
   "execution_count": 157,
   "id": "246a3922-3a82-4920-bcd6-cd55b4fbcd92",
   "metadata": {},
   "outputs": [],
   "source": [
    "flux_footprints.to_file('/Users/jkim/code/spec_school/data/footprintData/basic_footprint.shp')"
   ]
  },
  {
   "cell_type": "code",
   "execution_count": 143,
   "id": "812a0ba6-4962-444d-8380-5e0ede458b2f",
   "metadata": {},
   "outputs": [
    {
     "data": {
      "text/plain": [
       "<Axes: >"
      ]
     },
     "execution_count": 143,
     "metadata": {},
     "output_type": "execute_result"
    },
    {
     "data": {
      "image/png": "[encoded data removed]",
      "text/plain": [
       "<Figure size 640x480 with 1 Axes>"
      ]
     },
     "metadata": {},
     "output_type": "display_data"
    }
   ],
   "source": [
    "flux_footprints.iloc[[0]].plot()"
   ]
  },
  {
   "cell_type": "code",
   "execution_count": 145,
   "id": "e45491ab-0e09-4258-98ab-1cc15a6be11e",
   "metadata": {},
   "outputs": [
    {
     "data": {
      "text/html": [
       "<div>\n",
       "<style scoped>\n",
       "    .dataframe tbody tr th:only-of-type {\n",
       "        vertical-align: middle;\n",
       "    }\n",
       "\n",
       "    .dataframe tbody tr th {\n",
       "        vertical-align: top;\n",
       "    }\n",
       "\n",
       "    .dataframe thead th {\n",
       "        text-align: right;\n",
       "    }\n",
       "</style>\n",
       "<table border=\"1\" class=\"dataframe\">\n",
       "  <thead>\n",
       "    <tr style=\"text-align: right;\">\n",
       "      <th></th>\n",
       "      <th>Domain</th>\n",
       "      <th>SiteID</th>\n",
       "      <th>Type</th>\n",
       "      <th>Distance</th>\n",
       "      <th>Bearing</th>\n",
       "      <th>geometry</th>\n",
       "    </tr>\n",
       "  </thead>\n",
       "  <tbody>\n",
       "    <tr>\n",
       "      <th>64</th>\n",
       "      <td>7</td>\n",
       "      <td>MLBS</td>\n",
       "      <td>major</td>\n",
       "      <td>550</td>\n",
       "      <td>250</td>\n",
       "      <td>LINESTRING (-80.52484 37.37828, -80.53069 37.3...</td>\n",
       "    </tr>\n",
       "    <tr>\n",
       "      <th>65</th>\n",
       "      <td>7</td>\n",
       "      <td>MLBS</td>\n",
       "      <td>major</td>\n",
       "      <td>550</td>\n",
       "      <td>315</td>\n",
       "      <td>LINESTRING (-80.52484 37.37828, -80.52921 37.3...</td>\n",
       "    </tr>\n",
       "  </tbody>\n",
       "</table>\n",
       "</div>"
      ],
      "text/plain": [
       "    Domain SiteID   Type  Distance  Bearing  \\\n",
       "64       7   MLBS  major       550      250   \n",
       "65       7   MLBS  major       550      315   \n",
       "\n",
       "                                             geometry  \n",
       "64  LINESTRING (-80.52484 37.37828, -80.53069 37.3...  \n",
       "65  LINESTRING (-80.52484 37.37828, -80.52921 37.3...  "
      ]
     },
     "execution_count": 145,
     "metadata": {},
     "output_type": "execute_result"
    }
   ],
   "source": [
    "footprint_df[(footprint_df.SiteID == 'MLBS') & (footprint_df.Type == \"major\")]"
   ]
  },
  {
   "cell_type": "code",
   "execution_count": 148,
   "id": "ff835610-fadf-4d19-a875-55b08f253d1d",
   "metadata": {},
   "outputs": [
    {
     "data": {
      "text/plain": [
       "<Axes: >"
      ]
     },
     "execution_count": 148,
     "metadata": {},
     "output_type": "execute_result"
    },
    {
     "data": {
      "image/png": "[encoded data removed]",
      "text/plain": [
       "<Figure size 640x480 with 1 Axes>"
      ]
     },
     "metadata": {},
     "output_type": "display_data"
    }
   ],
   "source": [
    "footprint_df[(footprint_df.SiteID == 'MLBS') & (footprint_df.Type == \"major\")].plot()"
   ]
  },
  {
   "cell_type": "code",
   "execution_count": 159,
   "id": "e56a87bf-7b33-4a7b-851c-4c2caf789961",
   "metadata": {},
   "outputs": [
    {
     "data": {
      "text/plain": [
       "<Axes: >"
      ]
     },
     "execution_count": 159,
     "metadata": {},
     "output_type": "execute_result"
    },
    {
     "data": {
      "image/png": "[encoded data removed]",
      "text/plain": [
       "<Figure size 640x480 with 1 Axes>"
      ]
     },
     "metadata": {},
     "output_type": "display_data"
    }
   ],
   "source": [
    "flux_footprints.iloc[[0]].plot()"
   ]
  },
  {
   "cell_type": "code",
   "execution_count": null,
   "id": "82b9b704-32ed-45da-9d19-bb9fbbcfb70b",
   "metadata": {},
   "outputs": [],
   "source": []
  }
 ],
 "metadata": {
  "kernelspec": {
   "display_name": "Python [conda env:co2_env]",
   "language": "python",
   "name": "conda-env-co2_env-py"
  },
  "language_info": {
   "codemirror_mode": {
    "name": "ipython",
    "version": 3
   },
   "file_extension": ".py",
   "mimetype": "text/x-python",
   "name": "python",
   "nbconvert_exporter": "python",
   "pygments_lexer": "ipython3",
   "version": "3.11.4"
  }
 },
 "nbformat": 4,
 "nbformat_minor": 5
}
